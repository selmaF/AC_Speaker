{
 "cells": [
  {
   "cell_type": "code",
   "execution_count": 1,
   "metadata": {},
   "outputs": [],
   "source": [
    "import time\n",
    "import pandas as pd\n",
    "import numpy as np\n",
    "import matplotlib.pyplot as plt\n",
    "import math\n",
    "import itertools"
   ]
  },
  {
   "cell_type": "code",
   "execution_count": 2,
   "metadata": {},
   "outputs": [
    {
     "data": {
      "text/html": [
       "<div>\n",
       "<style scoped>\n",
       "    .dataframe tbody tr th:only-of-type {\n",
       "        vertical-align: middle;\n",
       "    }\n",
       "\n",
       "    .dataframe tbody tr th {\n",
       "        vertical-align: top;\n",
       "    }\n",
       "\n",
       "    .dataframe thead th {\n",
       "        text-align: right;\n",
       "    }\n",
       "</style>\n",
       "<table border=\"1\" class=\"dataframe\">\n",
       "  <thead>\n",
       "    <tr style=\"text-align: right;\">\n",
       "      <th></th>\n",
       "      <th>frame_count</th>\n",
       "      <th>pose_score</th>\n",
       "      <th>part_names</th>\n",
       "      <th>keypoint_score</th>\n",
       "      <th>x</th>\n",
       "      <th>y</th>\n",
       "      <th>timestamp</th>\n",
       "    </tr>\n",
       "  </thead>\n",
       "  <tbody>\n",
       "    <tr>\n",
       "      <td>0</td>\n",
       "      <td>0</td>\n",
       "      <td>0.485981</td>\n",
       "      <td>nose</td>\n",
       "      <td>0.998596</td>\n",
       "      <td>611.162146</td>\n",
       "      <td>124.546795</td>\n",
       "      <td>0</td>\n",
       "    </tr>\n",
       "    <tr>\n",
       "      <td>1</td>\n",
       "      <td>0</td>\n",
       "      <td>0.485981</td>\n",
       "      <td>leftEye</td>\n",
       "      <td>0.999153</td>\n",
       "      <td>633.655192</td>\n",
       "      <td>105.822706</td>\n",
       "      <td>0</td>\n",
       "    </tr>\n",
       "    <tr>\n",
       "      <td>2</td>\n",
       "      <td>0</td>\n",
       "      <td>0.485981</td>\n",
       "      <td>rightEye</td>\n",
       "      <td>0.999037</td>\n",
       "      <td>586.443437</td>\n",
       "      <td>107.564717</td>\n",
       "      <td>0</td>\n",
       "    </tr>\n",
       "    <tr>\n",
       "      <td>3</td>\n",
       "      <td>0</td>\n",
       "      <td>0.485981</td>\n",
       "      <td>leftEar</td>\n",
       "      <td>0.989831</td>\n",
       "      <td>670.423048</td>\n",
       "      <td>131.741275</td>\n",
       "      <td>0</td>\n",
       "    </tr>\n",
       "    <tr>\n",
       "      <td>4</td>\n",
       "      <td>0</td>\n",
       "      <td>0.485981</td>\n",
       "      <td>rightEar</td>\n",
       "      <td>0.963525</td>\n",
       "      <td>557.076654</td>\n",
       "      <td>131.300904</td>\n",
       "      <td>0</td>\n",
       "    </tr>\n",
       "    <tr>\n",
       "      <td>...</td>\n",
       "      <td>...</td>\n",
       "      <td>...</td>\n",
       "      <td>...</td>\n",
       "      <td>...</td>\n",
       "      <td>...</td>\n",
       "      <td>...</td>\n",
       "      <td>...</td>\n",
       "    </tr>\n",
       "    <tr>\n",
       "      <td>2817</td>\n",
       "      <td>165</td>\n",
       "      <td>0.000000</td>\n",
       "      <td>rightHip</td>\n",
       "      <td>0.000000</td>\n",
       "      <td>0.000000</td>\n",
       "      <td>0.000000</td>\n",
       "      <td>11</td>\n",
       "    </tr>\n",
       "    <tr>\n",
       "      <td>2818</td>\n",
       "      <td>165</td>\n",
       "      <td>0.000000</td>\n",
       "      <td>leftKnee</td>\n",
       "      <td>0.000000</td>\n",
       "      <td>0.000000</td>\n",
       "      <td>0.000000</td>\n",
       "      <td>11</td>\n",
       "    </tr>\n",
       "    <tr>\n",
       "      <td>2819</td>\n",
       "      <td>165</td>\n",
       "      <td>0.000000</td>\n",
       "      <td>rightKnee</td>\n",
       "      <td>0.000000</td>\n",
       "      <td>0.000000</td>\n",
       "      <td>0.000000</td>\n",
       "      <td>11</td>\n",
       "    </tr>\n",
       "    <tr>\n",
       "      <td>2820</td>\n",
       "      <td>165</td>\n",
       "      <td>0.000000</td>\n",
       "      <td>leftAnkle</td>\n",
       "      <td>0.000000</td>\n",
       "      <td>0.000000</td>\n",
       "      <td>0.000000</td>\n",
       "      <td>11</td>\n",
       "    </tr>\n",
       "    <tr>\n",
       "      <td>2821</td>\n",
       "      <td>165</td>\n",
       "      <td>0.000000</td>\n",
       "      <td>rightAnkle</td>\n",
       "      <td>0.000000</td>\n",
       "      <td>0.000000</td>\n",
       "      <td>0.000000</td>\n",
       "      <td>11</td>\n",
       "    </tr>\n",
       "  </tbody>\n",
       "</table>\n",
       "<p>2822 rows × 7 columns</p>\n",
       "</div>"
      ],
      "text/plain": [
       "      frame_count  pose_score  part_names  keypoint_score           x  \\\n",
       "0               0    0.485981        nose        0.998596  611.162146   \n",
       "1               0    0.485981     leftEye        0.999153  633.655192   \n",
       "2               0    0.485981    rightEye        0.999037  586.443437   \n",
       "3               0    0.485981     leftEar        0.989831  670.423048   \n",
       "4               0    0.485981    rightEar        0.963525  557.076654   \n",
       "...           ...         ...         ...             ...         ...   \n",
       "2817          165    0.000000    rightHip        0.000000    0.000000   \n",
       "2818          165    0.000000    leftKnee        0.000000    0.000000   \n",
       "2819          165    0.000000   rightKnee        0.000000    0.000000   \n",
       "2820          165    0.000000   leftAnkle        0.000000    0.000000   \n",
       "2821          165    0.000000  rightAnkle        0.000000    0.000000   \n",
       "\n",
       "               y  timestamp  \n",
       "0     124.546795          0  \n",
       "1     105.822706          0  \n",
       "2     107.564717          0  \n",
       "3     131.741275          0  \n",
       "4     131.300904          0  \n",
       "...          ...        ...  \n",
       "2817    0.000000         11  \n",
       "2818    0.000000         11  \n",
       "2819    0.000000         11  \n",
       "2820    0.000000         11  \n",
       "2821    0.000000         11  \n",
       "\n",
       "[2822 rows x 7 columns]"
      ]
     },
     "execution_count": 2,
     "metadata": {},
     "output_type": "execute_result"
    }
   ],
   "source": [
    "data=pd.read_csv('kp_coords/angewinkelt.csv')\n",
    "data"
   ]
  },
  {
   "cell_type": "code",
   "execution_count": 3,
   "metadata": {},
   "outputs": [],
   "source": [
    "right_elbows=data[data['part_names']=='rightElbow'][['frame_count','x','y']].rename({'x':'x_elbow','y':'y_elbow'},axis=1)\n",
    "right_shoulders=data[data['part_names']=='rightShoulder'][['frame_count','x','y']].rename({'x':'x_shoulder','y':'y_shoulder'},axis=1)\n",
    "right_wrists=data[data['part_names']=='rightWrist'][['frame_count','x','y']].rename({'x':'x_wrist','y':'y_wrist'},axis=1)"
   ]
  },
  {
   "cell_type": "code",
   "execution_count": 4,
   "metadata": {},
   "outputs": [],
   "source": [
    "left_elbows=data[data['part_names']=='leftElbow'][['frame_count','x','y']].rename({'x':'x_elbow','y':'y_elbow'},axis=1)\n",
    "left_shoulders=data[data['part_names']=='leftShoulder'][['frame_count','x','y']].rename({'x':'x_shoulder','y':'y_shoulder'},axis=1)\n",
    "left_wrists=data[data['part_names']=='leftWrist'][['frame_count','x','y']].rename({'x':'x_wrist','y':'y_wrist'},axis=1)"
   ]
  },
  {
   "cell_type": "code",
   "execution_count": 5,
   "metadata": {},
   "outputs": [],
   "source": [
    "right_arm=right_elbows.merge(right_shoulders, on='frame_count')\n",
    "right_arm=right_arm.merge(right_wrists, on='frame_count')"
   ]
  },
  {
   "cell_type": "code",
   "execution_count": 6,
   "metadata": {},
   "outputs": [],
   "source": [
    "left_arm=left_elbows.merge(left_shoulders, on='frame_count')\n",
    "left_arm=left_arm.merge(left_wrists, on='frame_count')\n"
   ]
  },
  {
   "cell_type": "code",
   "execution_count": 7,
   "metadata": {},
   "outputs": [],
   "source": [
    "left_arm['elbow_to_shoulder_x']= left_arm['x_elbow']-left_arm['x_shoulder']\n",
    "left_arm['elbow_to_shoulder_y']= left_arm['y_elbow']-left_arm['y_shoulder']\n",
    "\n",
    "left_arm['elbow_to_wrist_x']= left_arm['x_elbow']-left_arm['x_wrist']\n",
    "left_arm['elbow_to_wrist_y']= left_arm['y_elbow']-left_arm['y_wrist']\n",
    "\n",
    "left_arm['skalarprod']=left_arm['elbow_to_shoulder_x']*left_arm['elbow_to_wrist_x']+left_arm['elbow_to_shoulder_y']*left_arm['elbow_to_wrist_y']\n",
    "left_arm['länge_ets']=np.sqrt(left_arm['elbow_to_shoulder_x']**2+left_arm['elbow_to_shoulder_y']**2)\n",
    "left_arm['länge_etw']=np.sqrt(left_arm['elbow_to_wrist_x']**2+left_arm['elbow_to_wrist_y']**2)\n",
    "\n",
    "left_arm['winkel']=np.degrees(np.arccos(left_arm['skalarprod']/np.abs(left_arm['länge_etw']*left_arm['länge_ets'])))\n"
   ]
  },
  {
   "cell_type": "code",
   "execution_count": 8,
   "metadata": {},
   "outputs": [],
   "source": [
    "right_arm['elbow_to_shoulder_x']= right_arm['x_shoulder']-right_arm['x_elbow']\n",
    "right_arm['elbow_to_shoulder_y']= right_arm['y_shoulder']-right_arm['y_elbow']\n",
    "\n",
    "right_arm['elbow_to_wrist_x']= right_arm['x_wrist']-right_arm['x_elbow']\n",
    "right_arm['elbow_to_wrist_y']= right_arm['y_wrist']-right_arm['y_elbow']\n",
    "\n",
    "right_arm['skalarprod']=right_arm['elbow_to_shoulder_x']*right_arm['elbow_to_wrist_x']+right_arm['elbow_to_shoulder_y']*right_arm['elbow_to_wrist_y']\n",
    "right_arm['länge_ets']=np.sqrt(right_arm['elbow_to_shoulder_x']**2+right_arm['elbow_to_shoulder_y']**2)\n",
    "right_arm['länge_etw']=np.sqrt(right_arm['elbow_to_wrist_x']**2+right_arm['elbow_to_wrist_y']**2)\n",
    "\n",
    "right_arm['winkel']=np.degrees(np.arccos(right_arm['skalarprod']/np.abs(right_arm['länge_etw']*right_arm['länge_ets'])))\n"
   ]
  },
  {
   "cell_type": "code",
   "execution_count": 9,
   "metadata": {},
   "outputs": [],
   "source": [
    "def get_angle(data, vertex, point_a, point_b):\n",
    "    \"Get the angle between the vectors from vertex to point_a and vertex to point_b where coordinates have standard format or nose_origin_format\"\n",
    "    vertex_points=data[data['part_names']==vertex][['frame_count','x','y']].rename({'x':'x_vertex','y':'y_vertex'},axis=1)\n",
    "    a_points=data[data['part_names']==point_a][['frame_count','x','y']].rename({'x':'x_a','y':'y_a'},axis=1)\n",
    "    b_points=data[data['part_names']==point_b][['frame_count','x','y']].rename({'x':'x_b','y':'y_b'},axis=1)\n",
    "    \n",
    "    table=vertex_points.merge(a_points,on='frame_count')\n",
    "    table=table.merge(b_points,on='frame_count')\n",
    "    \n",
    "    table['v_to_a_x']= table['x_a']-table['x_vertex']\n",
    "    table['v_to_a_y']= table['y_a']-table['y_vertex']\n",
    "    table['v_to_b_x']= table['x_b']-table['x_vertex']\n",
    "    table['v_to_b_y']= table['y_b']-table['y_vertex']\n",
    "\n",
    "    table['dot_product']=table['v_to_a_x']*table['v_to_b_x'] + table['v_to_a_y']*table['v_to_b_y']\n",
    "    table['len_vtoa']=np.sqrt(table['v_to_a_x']**2+table['v_to_a_y']**2)\n",
    "    table['len_vtob']=np.sqrt(table['v_to_b_x']**2+table['v_to_b_y']**2)\n",
    "    table['angle'] = np.degrees(np.arccos(table['dot_product']/np.abs(table['len_vtoa']*table['len_vtob'])))\n",
    "    \n",
    "    table=table[['angle']]\n",
    "    table.rename({'angle':'angle_at_{}'.format(vertex)},axis=1)\n",
    "    \n",
    "    return table"
   ]
  },
  {
   "cell_type": "code",
   "execution_count": null,
   "metadata": {},
   "outputs": [],
   "source": []
  },
  {
   "cell_type": "code",
   "execution_count": 12,
   "metadata": {},
   "outputs": [
    {
     "data": {
      "text/html": [
       "<div>\n",
       "<style scoped>\n",
       "    .dataframe tbody tr th:only-of-type {\n",
       "        vertical-align: middle;\n",
       "    }\n",
       "\n",
       "    .dataframe tbody tr th {\n",
       "        vertical-align: top;\n",
       "    }\n",
       "\n",
       "    .dataframe thead th {\n",
       "        text-align: right;\n",
       "    }\n",
       "</style>\n",
       "<table border=\"1\" class=\"dataframe\">\n",
       "  <thead>\n",
       "    <tr style=\"text-align: right;\">\n",
       "      <th></th>\n",
       "      <th>angle</th>\n",
       "    </tr>\n",
       "  </thead>\n",
       "  <tbody>\n",
       "    <tr>\n",
       "      <td>0</td>\n",
       "      <td>114.637730</td>\n",
       "    </tr>\n",
       "    <tr>\n",
       "      <td>1</td>\n",
       "      <td>107.145453</td>\n",
       "    </tr>\n",
       "    <tr>\n",
       "      <td>2</td>\n",
       "      <td>108.964229</td>\n",
       "    </tr>\n",
       "    <tr>\n",
       "      <td>3</td>\n",
       "      <td>109.459904</td>\n",
       "    </tr>\n",
       "    <tr>\n",
       "      <td>4</td>\n",
       "      <td>110.184082</td>\n",
       "    </tr>\n",
       "    <tr>\n",
       "      <td>...</td>\n",
       "      <td>...</td>\n",
       "    </tr>\n",
       "    <tr>\n",
       "      <td>161</td>\n",
       "      <td>179.026134</td>\n",
       "    </tr>\n",
       "    <tr>\n",
       "      <td>162</td>\n",
       "      <td>178.160130</td>\n",
       "    </tr>\n",
       "    <tr>\n",
       "      <td>163</td>\n",
       "      <td>178.835639</td>\n",
       "    </tr>\n",
       "    <tr>\n",
       "      <td>164</td>\n",
       "      <td>NaN</td>\n",
       "    </tr>\n",
       "    <tr>\n",
       "      <td>165</td>\n",
       "      <td>NaN</td>\n",
       "    </tr>\n",
       "  </tbody>\n",
       "</table>\n",
       "<p>166 rows × 1 columns</p>\n",
       "</div>"
      ],
      "text/plain": [
       "          angle\n",
       "0    114.637730\n",
       "1    107.145453\n",
       "2    108.964229\n",
       "3    109.459904\n",
       "4    110.184082\n",
       "..          ...\n",
       "161  179.026134\n",
       "162  178.160130\n",
       "163  178.835639\n",
       "164         NaN\n",
       "165         NaN\n",
       "\n",
       "[166 rows x 1 columns]"
      ]
     },
     "execution_count": 12,
     "metadata": {},
     "output_type": "execute_result"
    }
   ],
   "source": [
    "test2=get_angle(data,'leftElbow','leftShoulder','leftWrist')\n",
    "test2"
   ]
  },
  {
   "cell_type": "code",
   "execution_count": 13,
   "metadata": {},
   "outputs": [],
   "source": [
    "def nose_as_origin(data):\n",
    "    \"Transform standard output coordinates to format where nose position is (0/0) coordinate\"\n",
    "    df_nose = (data.loc[data['part_names'] == 'nose', ['frame_count', 'x', 'y']].copy())\n",
    "    df_nose.columns = ['frame_count', 'x_nose', 'y_nose']\n",
    "    df = data.merge(df_nose, how='left', on='frame_count')\n",
    "    df['x'] -= df['x_nose']\n",
    "    df['y'] -= df['y_nose']\n",
    "    df = df.drop(['x_nose','y_nose'], axis=1)\n",
    "    #df.rename(columns={\"x\": \"x_dist_to_nose\", \"y\": \"y_dist_to_nose\"},inplace=True)\n",
    "    return df\n"
   ]
  },
  {
   "cell_type": "code",
   "execution_count": null,
   "metadata": {},
   "outputs": [],
   "source": []
  },
  {
   "cell_type": "code",
   "execution_count": 14,
   "metadata": {},
   "outputs": [],
   "source": [
    "test=get_angle(data,'rightElbow','rightWrist','rightShoulder')"
   ]
  },
  {
   "cell_type": "code",
   "execution_count": 15,
   "metadata": {},
   "outputs": [],
   "source": [
    "e=(test['angle']<38) & (test['angle']>36)\n"
   ]
  },
  {
   "cell_type": "code",
   "execution_count": 16,
   "metadata": {},
   "outputs": [],
   "source": [
    "data=nose_as_origin(data)"
   ]
  },
  {
   "cell_type": "code",
   "execution_count": 17,
   "metadata": {},
   "outputs": [
    {
     "data": {
      "text/html": [
       "<div>\n",
       "<style scoped>\n",
       "    .dataframe tbody tr th:only-of-type {\n",
       "        vertical-align: middle;\n",
       "    }\n",
       "\n",
       "    .dataframe tbody tr th {\n",
       "        vertical-align: top;\n",
       "    }\n",
       "\n",
       "    .dataframe thead th {\n",
       "        text-align: right;\n",
       "    }\n",
       "</style>\n",
       "<table border=\"1\" class=\"dataframe\">\n",
       "  <thead>\n",
       "    <tr style=\"text-align: right;\">\n",
       "      <th></th>\n",
       "      <th>frame_count</th>\n",
       "      <th>pose_score</th>\n",
       "      <th>part_names</th>\n",
       "      <th>keypoint_score</th>\n",
       "      <th>x</th>\n",
       "      <th>y</th>\n",
       "      <th>timestamp</th>\n",
       "    </tr>\n",
       "  </thead>\n",
       "  <tbody>\n",
       "    <tr>\n",
       "      <td>0</td>\n",
       "      <td>0</td>\n",
       "      <td>0.485981</td>\n",
       "      <td>nose</td>\n",
       "      <td>0.998596</td>\n",
       "      <td>0.000000</td>\n",
       "      <td>0.000000</td>\n",
       "      <td>0</td>\n",
       "    </tr>\n",
       "    <tr>\n",
       "      <td>1</td>\n",
       "      <td>0</td>\n",
       "      <td>0.485981</td>\n",
       "      <td>leftEye</td>\n",
       "      <td>0.999153</td>\n",
       "      <td>22.493046</td>\n",
       "      <td>-18.724090</td>\n",
       "      <td>0</td>\n",
       "    </tr>\n",
       "    <tr>\n",
       "      <td>2</td>\n",
       "      <td>0</td>\n",
       "      <td>0.485981</td>\n",
       "      <td>rightEye</td>\n",
       "      <td>0.999037</td>\n",
       "      <td>-24.718709</td>\n",
       "      <td>-16.982078</td>\n",
       "      <td>0</td>\n",
       "    </tr>\n",
       "    <tr>\n",
       "      <td>3</td>\n",
       "      <td>0</td>\n",
       "      <td>0.485981</td>\n",
       "      <td>leftEar</td>\n",
       "      <td>0.989831</td>\n",
       "      <td>59.260902</td>\n",
       "      <td>7.194480</td>\n",
       "      <td>0</td>\n",
       "    </tr>\n",
       "    <tr>\n",
       "      <td>4</td>\n",
       "      <td>0</td>\n",
       "      <td>0.485981</td>\n",
       "      <td>rightEar</td>\n",
       "      <td>0.963525</td>\n",
       "      <td>-54.085492</td>\n",
       "      <td>6.754109</td>\n",
       "      <td>0</td>\n",
       "    </tr>\n",
       "    <tr>\n",
       "      <td>...</td>\n",
       "      <td>...</td>\n",
       "      <td>...</td>\n",
       "      <td>...</td>\n",
       "      <td>...</td>\n",
       "      <td>...</td>\n",
       "      <td>...</td>\n",
       "      <td>...</td>\n",
       "    </tr>\n",
       "    <tr>\n",
       "      <td>2817</td>\n",
       "      <td>165</td>\n",
       "      <td>0.000000</td>\n",
       "      <td>rightHip</td>\n",
       "      <td>0.000000</td>\n",
       "      <td>0.000000</td>\n",
       "      <td>0.000000</td>\n",
       "      <td>11</td>\n",
       "    </tr>\n",
       "    <tr>\n",
       "      <td>2818</td>\n",
       "      <td>165</td>\n",
       "      <td>0.000000</td>\n",
       "      <td>leftKnee</td>\n",
       "      <td>0.000000</td>\n",
       "      <td>0.000000</td>\n",
       "      <td>0.000000</td>\n",
       "      <td>11</td>\n",
       "    </tr>\n",
       "    <tr>\n",
       "      <td>2819</td>\n",
       "      <td>165</td>\n",
       "      <td>0.000000</td>\n",
       "      <td>rightKnee</td>\n",
       "      <td>0.000000</td>\n",
       "      <td>0.000000</td>\n",
       "      <td>0.000000</td>\n",
       "      <td>11</td>\n",
       "    </tr>\n",
       "    <tr>\n",
       "      <td>2820</td>\n",
       "      <td>165</td>\n",
       "      <td>0.000000</td>\n",
       "      <td>leftAnkle</td>\n",
       "      <td>0.000000</td>\n",
       "      <td>0.000000</td>\n",
       "      <td>0.000000</td>\n",
       "      <td>11</td>\n",
       "    </tr>\n",
       "    <tr>\n",
       "      <td>2821</td>\n",
       "      <td>165</td>\n",
       "      <td>0.000000</td>\n",
       "      <td>rightAnkle</td>\n",
       "      <td>0.000000</td>\n",
       "      <td>0.000000</td>\n",
       "      <td>0.000000</td>\n",
       "      <td>11</td>\n",
       "    </tr>\n",
       "  </tbody>\n",
       "</table>\n",
       "<p>2822 rows × 7 columns</p>\n",
       "</div>"
      ],
      "text/plain": [
       "      frame_count  pose_score  part_names  keypoint_score          x  \\\n",
       "0               0    0.485981        nose        0.998596   0.000000   \n",
       "1               0    0.485981     leftEye        0.999153  22.493046   \n",
       "2               0    0.485981    rightEye        0.999037 -24.718709   \n",
       "3               0    0.485981     leftEar        0.989831  59.260902   \n",
       "4               0    0.485981    rightEar        0.963525 -54.085492   \n",
       "...           ...         ...         ...             ...        ...   \n",
       "2817          165    0.000000    rightHip        0.000000   0.000000   \n",
       "2818          165    0.000000    leftKnee        0.000000   0.000000   \n",
       "2819          165    0.000000   rightKnee        0.000000   0.000000   \n",
       "2820          165    0.000000   leftAnkle        0.000000   0.000000   \n",
       "2821          165    0.000000  rightAnkle        0.000000   0.000000   \n",
       "\n",
       "              y  timestamp  \n",
       "0      0.000000          0  \n",
       "1    -18.724090          0  \n",
       "2    -16.982078          0  \n",
       "3      7.194480          0  \n",
       "4      6.754109          0  \n",
       "...         ...        ...  \n",
       "2817   0.000000         11  \n",
       "2818   0.000000         11  \n",
       "2819   0.000000         11  \n",
       "2820   0.000000         11  \n",
       "2821   0.000000         11  \n",
       "\n",
       "[2822 rows x 7 columns]"
      ]
     },
     "execution_count": 17,
     "metadata": {},
     "output_type": "execute_result"
    }
   ],
   "source": [
    "data"
   ]
  },
  {
   "cell_type": "code",
   "execution_count": 103,
   "metadata": {},
   "outputs": [],
   "source": [
    "def check_angewinkelt(data):\n",
    "    \"return type needs to be list for consecutive functions to work\"\n",
    "\n",
    "    #falls data schon im nosecoords format, egal: nose_as_origin ist idempotent\n",
    "    data=nose_as_origin(data)\n",
    "\n",
    "    #get elbow angles\n",
    "    right_elbow_angle = get_angle(data,'rightElbow','rightWrist','rightShoulder')\n",
    "    left_elbow_angle = get_angle(data,'leftElbow','leftWrist','leftShoulder')\n",
    "\n",
    "    #für beträge der x-koordinaten gilt: hip<wrist\n",
    "    subcond_0 = np.abs(data[data['part_names']=='rightHip']['x'].reset_index(drop=True))<np.abs(data[data['part_names']=='rightWrist']['x'].reset_index(drop=True))\n",
    "\n",
    "    #für beträge der x-koordinaten gilt: wrist<elbow\n",
    "    subcond_1 = np.abs(data[data['part_names']=='rightWrist']['x'].reset_index(drop=True))<np.abs(data[data['part_names']=='rightElbow']['x'].reset_index(drop=True))\n",
    "\n",
    "    #für beträge der x-koordinaten gilt: hip<wrist\n",
    "    subcond_2 = np.abs(data[data['part_names']=='leftHip']['x'].reset_index(drop=True))<np.abs(data[data['part_names']=='leftWrist']['x'].reset_index(drop=True))\n",
    "\n",
    "    #für beträge der x-koordinaten gilt: wrist<elbow\n",
    "    subcond_3 = np.abs(data[data['part_names']=='leftWrist']['x'].reset_index(drop=True))<np.abs(data[data['part_names']=='leftElbow']['x'].reset_index(drop=True))\n",
    "\n",
    "    #winkel sind in best. bereich\n",
    "    subcond_4 = (right_elbow_angle<125) & (right_elbow_angle>95)\n",
    "    subcond_4 = subcond_4['angle']\n",
    "\n",
    "    #winkel sind in best. bereich\n",
    "    subcond_5 = (left_elbow_angle<125) & (left_elbow_angle>95)\n",
    "    subcond_5 = subcond_5['angle']\n",
    "\n",
    "    #für beträge der x-koordinaten gilt: hip<wrist<elbow\n",
    "    c = subcond_0 & subcond_1 & subcond_2 & subcond_3 & subcond_4 & subcond_5\n",
    "    c = c.rename('angewinkelt')\n",
    "    \n",
    "    return c"
   ]
  },
  {
   "cell_type": "code",
   "execution_count": 128,
   "metadata": {},
   "outputs": [],
   "source": [
    "def check_verschränkt(data):\n",
    "    \"return type needs to be list for consecutive functions to work\"\n",
    "\n",
    "    #falls data schon im nosecoords format, egal: nose_as_origin ist idempotent\n",
    "    data=nose_as_origin(data)\n",
    "\n",
    "    #get elbow angles\n",
    "    right_elbow_angle = get_angle(data,'rightElbow','rightWrist','rightShoulder')\n",
    "    left_elbow_angle = get_angle(data,'leftElbow','leftWrist','leftShoulder')\n",
    "    \n",
    "    left_shoulder_angle = get_angle(data,'leftShoulder','leftElbow','leftHip')\n",
    "    right_shoulder_angle = get_angle(data,'rightShoulder','rightElbow','rightHip')\n",
    "\n",
    "    #höhenunterschied rightelbow und rightwrist kleiner als 50\n",
    "    subcond_0 = np.abs((data[data['part_names']=='rightElbow']['y'].reset_index(drop=True))-(data[data['part_names']=='rightWrist']['y'].reset_index(drop=True)))<50\n",
    "    \n",
    "    #höhenunterschied rightelbow und rightwrist kleiner als 50\n",
    "    subcond_1 = np.abs((data[data['part_names']=='leftElbow']['y'].reset_index(drop=True))-(data[data['part_names']=='leftWrist']['y'].reset_index(drop=True)))<50\n",
    "\n",
    "    #rightwrist näher an leftelbow als an rightelbow\n",
    "    subcond_2 = np.abs((data[data['part_names']=='rightElbow']['x'].reset_index(drop=True))-(data[data['part_names']=='rightWrist']['x'].reset_index(drop=True)))>np.abs((data[data['part_names']=='rightWrist']['x'].reset_index(drop=True))-(data[data['part_names']=='leftElbow']['x'].reset_index(drop=True)))\n",
    "\n",
    "    #so wie sc2 nur für andere seite\n",
    "    subcond_3 = np.abs((data[data['part_names']=='leftElbow']['x'].reset_index(drop=True))-(data[data['part_names']=='leftWrist']['x'].reset_index(drop=True)))>np.abs((data[data['part_names']=='leftWrist']['x'].reset_index(drop=True))-(data[data['part_names']=='rightElbow']['x'].reset_index(drop=True)))\n",
    "\n",
    "    #spitze winkel im ellbogen\n",
    "    subcond_4 = (right_elbow_angle<100) \n",
    "    subcond_4 = subcond_4['angle']\n",
    "\n",
    "    #winkel sind in best. bereich\n",
    "    subcond_5 = (left_elbow_angle<100) \n",
    "    subcond_5 = subcond_5['angle']\n",
    "    \n",
    "    #winkel sind in best. bereich\n",
    "    subcond_6 = (left_shoulder_angle<35) \n",
    "    subcond_6 = subcond_6['angle']\n",
    "    \n",
    "    #winkel sind in best. bereich\n",
    "    subcond_7 = (right_shoulder_angle<35) \n",
    "    subcond_7 = subcond_7['angle']\n",
    "\n",
    "    c = subcond_0 & subcond_1 & subcond_2 & subcond_3 & subcond_4 & subcond_5 & subcond_6 & subcond_7\n",
    "    c = c.rename_axis(\"verschränkt\")\n",
    "    \n",
    "    return c"
   ]
  },
  {
   "cell_type": "code",
   "execution_count": 146,
   "metadata": {},
   "outputs": [],
   "source": [
    "def check_handgelenkgriff(data):\n",
    "    \"return type needs to be list for consecutive functions to work\"\n",
    "\n",
    "    #falls data schon im nosecoords format, egal: nose_as_origin ist idempotent\n",
    "    data=nose_as_origin(data)\n",
    "\n",
    "    #get elbow angles\n",
    "    right_elbow_angle = get_angle(data,'rightElbow','rightWrist','rightShoulder')\n",
    "    left_elbow_angle = get_angle(data,'leftElbow','leftWrist','leftShoulder')\n",
    "    \n",
    "    left_shoulder_angle = get_angle(data,'leftShoulder','leftElbow','leftHip')\n",
    "    right_shoulder_angle = get_angle(data,'rightShoulder','rightElbow','rightHip')\n",
    "\n",
    "    #höhenunterschied elbows kleiner als 30\n",
    "    subcond_0 = np.abs((data[data['part_names']=='rightElbow']['y'].reset_index(drop=True))-(data[data['part_names']=='leftElbow']['y'].reset_index(drop=True)))<30\n",
    "    \n",
    "    #höhenunterschied wrists kleiner als 50\n",
    "    subcond_1 = np.abs((data[data['part_names']=='leftWrist']['y'].reset_index(drop=True))-(data[data['part_names']=='leftWrist']['y'].reset_index(drop=True)))<50\n",
    "\n",
    "    #für beträge der x-koordinaten gilt: wrist<Hip\n",
    "    subcond_2 = np.abs(data[data['part_names']=='rightWrist']['x'].reset_index(drop=True))<np.abs(data[data['part_names']=='rightHip']['x'].reset_index(drop=True))\n",
    "\n",
    "    #für beträge der x-koordinaten gilt: wrist<Hip\n",
    "    subcond_3 = np.abs(data[data['part_names']=='leftWrist']['x'].reset_index(drop=True))<np.abs(data[data['part_names']=='leftHip']['x'].reset_index(drop=True))\n",
    "    \n",
    "    #stumpfe winkel im ellbogen\n",
    "    subcond_4 = (right_elbow_angle>100) \n",
    "    subcond_4 = subcond_4['angle']\n",
    "\n",
    "    #winkel sind in best. bereich\n",
    "    subcond_5 = (left_elbow_angle>100) \n",
    "    subcond_5 = subcond_5['angle']\n",
    "    \n",
    "    #winkel sind in best. bereich\n",
    "    subcond_6 = (left_shoulder_angle<35) \n",
    "    subcond_6 = subcond_6['angle']\n",
    "    \n",
    "    #winkel sind in best. bereich\n",
    "    subcond_7 = (right_shoulder_angle<35) \n",
    "    subcond_7 = subcond_7['angle']\n",
    "\n",
    "    c = subcond_0 & subcond_1 & subcond_2 & subcond_3 & subcond_4 & subcond_5 & subcond_6 & subcond_7\n",
    "    c = c.rename_axis(\"handgelenke hängend umgriffen\")\n",
    "    \n",
    "    return c"
   ]
  },
  {
   "cell_type": "code",
   "execution_count": 389,
   "metadata": {},
   "outputs": [],
   "source": [
    "def get_blocks(_list, drop_blocks=1, include_False_blocks=False):\n",
    "    \"get consecutive blocks, drop (meaning invert) blocks of length 1. Warning: Multiple execution will invert longer blocks\"\n",
    "    _list=list(_list)\n",
    "    \n",
    "    #get blocks/sequences of consecutive true/false elements\n",
    "    block_list = []\n",
    "    i=0\n",
    "    for key, iter in itertools.groupby(_list):\n",
    "        block_length=len(list(iter))\n",
    "        block_list.append((key, block_length,i))\n",
    "        i += block_length\n",
    "    print(\"1\",block_list)\n",
    "    \n",
    "    \n",
    "    if (include_False_blocks==False):\n",
    "        block_list = [element for element in block_list if element[0]==True]\n",
    "\n",
    "    return block_list\n",
    "\n",
    "\n",
    "\n"
   ]
  },
  {
   "cell_type": "code",
   "execution_count": 386,
   "metadata": {},
   "outputs": [
    {
     "ename": "NameError",
     "evalue": "name 'drop_blocks' is not defined",
     "output_type": "error",
     "traceback": [
      "\u001b[0;31m---------------------------------------------------------------------------\u001b[0m",
      "\u001b[0;31mNameError\u001b[0m                                 Traceback (most recent call last)",
      "\u001b[0;32m<ipython-input-386-debd24d37d57>\u001b[0m in \u001b[0;36m<module>\u001b[0;34m\u001b[0m\n\u001b[1;32m      1\u001b[0m \u001b[0;31m#find single values (blocks of length \"drop_blocks\")\u001b[0m\u001b[0;34m\u001b[0m\u001b[0;34m\u001b[0m\u001b[0;34m\u001b[0m\u001b[0m\n\u001b[0;32m----> 2\u001b[0;31m \u001b[0msingles\u001b[0m \u001b[0;34m=\u001b[0m \u001b[0;34m[\u001b[0m\u001b[0melement\u001b[0m \u001b[0;32mfor\u001b[0m \u001b[0melement\u001b[0m \u001b[0;32min\u001b[0m \u001b[0manswer\u001b[0m \u001b[0;32mif\u001b[0m \u001b[0melement\u001b[0m\u001b[0;34m[\u001b[0m\u001b[0;36m1\u001b[0m\u001b[0;34m]\u001b[0m\u001b[0;34m==\u001b[0m\u001b[0mdrop_blocks\u001b[0m\u001b[0;34m]\u001b[0m\u001b[0;34m\u001b[0m\u001b[0;34m\u001b[0m\u001b[0m\n\u001b[0m\u001b[1;32m      3\u001b[0m \u001b[0mprint\u001b[0m\u001b[0;34m(\u001b[0m\u001b[0;34m\"singles\"\u001b[0m\u001b[0;34m,\u001b[0m\u001b[0msingles\u001b[0m\u001b[0;34m)\u001b[0m\u001b[0;34m\u001b[0m\u001b[0;34m\u001b[0m\u001b[0m\n\u001b[1;32m      4\u001b[0m \u001b[0;31m# invert single values\u001b[0m\u001b[0;34m\u001b[0m\u001b[0;34m\u001b[0m\u001b[0;34m\u001b[0m\u001b[0m\n\u001b[1;32m      5\u001b[0m \u001b[0;32mfor\u001b[0m \u001b[0melement\u001b[0m \u001b[0;32min\u001b[0m \u001b[0msingles\u001b[0m\u001b[0;34m:\u001b[0m\u001b[0;34m\u001b[0m\u001b[0;34m\u001b[0m\u001b[0m\n",
      "\u001b[0;32m<ipython-input-386-debd24d37d57>\u001b[0m in \u001b[0;36m<listcomp>\u001b[0;34m(.0)\u001b[0m\n\u001b[1;32m      1\u001b[0m \u001b[0;31m#find single values (blocks of length \"drop_blocks\")\u001b[0m\u001b[0;34m\u001b[0m\u001b[0;34m\u001b[0m\u001b[0;34m\u001b[0m\u001b[0m\n\u001b[0;32m----> 2\u001b[0;31m \u001b[0msingles\u001b[0m \u001b[0;34m=\u001b[0m \u001b[0;34m[\u001b[0m\u001b[0melement\u001b[0m \u001b[0;32mfor\u001b[0m \u001b[0melement\u001b[0m \u001b[0;32min\u001b[0m \u001b[0manswer\u001b[0m \u001b[0;32mif\u001b[0m \u001b[0melement\u001b[0m\u001b[0;34m[\u001b[0m\u001b[0;36m1\u001b[0m\u001b[0;34m]\u001b[0m\u001b[0;34m==\u001b[0m\u001b[0mdrop_blocks\u001b[0m\u001b[0;34m]\u001b[0m\u001b[0;34m\u001b[0m\u001b[0;34m\u001b[0m\u001b[0m\n\u001b[0m\u001b[1;32m      3\u001b[0m \u001b[0mprint\u001b[0m\u001b[0;34m(\u001b[0m\u001b[0;34m\"singles\"\u001b[0m\u001b[0;34m,\u001b[0m\u001b[0msingles\u001b[0m\u001b[0;34m)\u001b[0m\u001b[0;34m\u001b[0m\u001b[0;34m\u001b[0m\u001b[0m\n\u001b[1;32m      4\u001b[0m \u001b[0;31m# invert single values\u001b[0m\u001b[0;34m\u001b[0m\u001b[0;34m\u001b[0m\u001b[0;34m\u001b[0m\u001b[0m\n\u001b[1;32m      5\u001b[0m \u001b[0;32mfor\u001b[0m \u001b[0melement\u001b[0m \u001b[0;32min\u001b[0m \u001b[0msingles\u001b[0m\u001b[0;34m:\u001b[0m\u001b[0;34m\u001b[0m\u001b[0;34m\u001b[0m\u001b[0m\n",
      "\u001b[0;31mNameError\u001b[0m: name 'drop_blocks' is not defined"
     ]
    }
   ],
   "source": [
    "    #find single values (blocks of length \"drop_blocks\") \n",
    "    singles = [element for element in answer if element[1]==drop_blocks]\n",
    "    print(\"singles\",singles)\n",
    "    # invert single values\n",
    "    for element in singles:\n",
    "        block_list[element[1]]= not (block_list[element[1]])\n",
    "    print(\"2\",block_list)"
   ]
  },
  {
   "cell_type": "code",
   "execution_count": 387,
   "metadata": {},
   "outputs": [
    {
     "data": {
      "text/plain": [
       "[(True, 24, 0),\n",
       " (False, 96, 24),\n",
       " (True, 2, 120),\n",
       " (False, 1, 122),\n",
       " (True, 2, 123),\n",
       " (False, 1, 125),\n",
       " (True, 3, 126),\n",
       " (False, 2, 129),\n",
       " (True, 14, 131),\n",
       " (False, 1, 145),\n",
       " (True, 8, 146),\n",
       " (False, 12, 154)]"
      ]
     },
     "execution_count": 387,
     "metadata": {},
     "output_type": "execute_result"
    }
   ],
   "source": [
    "# get consecutive blocks \n",
    "\n",
    "answer = []\n",
    "i=0\n",
    "for key, iter in itertools.groupby(c):\n",
    "    block_length=len(list(iter))\n",
    "    answer.append((key, block_length,i))\n",
    "    i += block_length\n",
    "answer"
   ]
  },
  {
   "cell_type": "code",
   "execution_count": 339,
   "metadata": {},
   "outputs": [
    {
     "name": "stdout",
     "output_type": "stream",
     "text": [
      "[(True, 1, 0), (True, 22, 2), (True, 2, 120), (True, 2, 123), (True, 3, 126), (True, 14, 131), (True, 8, 146)]\n"
     ]
    }
   ],
   "source": [
    "# suche alle blöcke wo wahr\n",
    "selection = [element for element in answer if element[0]==True]\n",
    "print(selection)"
   ]
  },
  {
   "cell_type": "code",
   "execution_count": 418,
   "metadata": {},
   "outputs": [
    {
     "name": "stdout",
     "output_type": "stream",
     "text": [
      "1 [(True, 24, 0), (False, 96, 24), (True, 2, 120), (False, 1, 122), (True, 2, 123), (False, 1, 125), (True, 3, 126), (False, 2, 129), (True, 14, 131), (False, 1, 145), (True, 8, 146), (False, 12, 154)]\n"
     ]
    },
    {
     "data": {
      "text/plain": [
       "[(True, 24, 0),\n",
       " (True, 2, 120),\n",
       " (True, 2, 123),\n",
       " (True, 3, 126),\n",
       " (True, 14, 131),\n",
       " (True, 8, 146)]"
      ]
     },
     "execution_count": 418,
     "metadata": {},
     "output_type": "execute_result"
    }
   ],
   "source": []
  },
  {
   "cell_type": "code",
   "execution_count": 410,
   "metadata": {},
   "outputs": [],
   "source": [
    "df = pd.DataFrame(e, columns=['a', 'length', 'start_frame'])"
   ]
  },
  {
   "cell_type": "code",
   "execution_count": 426,
   "metadata": {},
   "outputs": [
    {
     "name": "stdout",
     "output_type": "stream",
     "text": [
      "Beidseitig in die Hüften gestützte Arme ab Sekunde  0\n",
      "Beidseitig in die Hüften gestützte Arme ab Sekunde  8\n",
      "Beidseitig in die Hüften gestützte Arme ab Sekunde  9\n"
     ]
    }
   ],
   "source": [
    "frame_to_second=data[['frame_count','timestamp']]\n",
    "prev=-1\n",
    "for element in e:\n",
    "    second=frame_to_second[frame_to_second['frame_count']== element[2]].iloc[0][1]\n",
    "    if (prev!=second):\n",
    "        print(\"Beidseitig in die Hüften gestützte Arme ab Sekunde \", second)\n",
    "    prev=second"
   ]
  },
  {
   "cell_type": "code",
   "execution_count": 432,
   "metadata": {},
   "outputs": [
    {
     "data": {
      "text/plain": [
       "15.0"
      ]
     },
     "execution_count": 432,
     "metadata": {},
     "output_type": "execute_result"
    }
   ],
   "source": [
    "se=data[['frame_count','timestamp']]\n",
    "avg_fps=se.iloc[-1][0]/se.iloc[-1][1]"
   ]
  },
  {
   "cell_type": "code",
   "execution_count": 147,
   "metadata": {},
   "outputs": [],
   "source": [
    "a=check_angewinkelt(data)\n",
    "v=check_verschränkt(data)\n",
    "aa=check_handgelenkgriff(data)"
   ]
  },
  {
   "cell_type": "code",
   "execution_count": 151,
   "metadata": {},
   "outputs": [
    {
     "data": {
      "text/plain": [
       "(3, 166)"
      ]
     },
     "execution_count": 151,
     "metadata": {},
     "output_type": "execute_result"
    }
   ],
   "source": [
    "f=pd.concat([a,v,aa],axis=1).to_numpy().transpose()\n",
    "\n",
    "f.shape"
   ]
  },
  {
   "cell_type": "code",
   "execution_count": null,
   "metadata": {},
   "outputs": [],
   "source": []
  },
  {
   "cell_type": "code",
   "execution_count": 152,
   "metadata": {},
   "outputs": [],
   "source": [
    "import matplotlib.pyplot as plt"
   ]
  },
  {
   "cell_type": "code",
   "execution_count": 153,
   "metadata": {},
   "outputs": [
    {
     "data": {
      "text/plain": [
       "[Text(0, 0, 'angewinkelt'),\n",
       " Text(0, 0, 'verschränkt'),\n",
       " Text(0, 0, 'handgelenke umfasst')]"
      ]
     },
     "execution_count": 153,
     "metadata": {},
     "output_type": "execute_result"
    },
    {
     "data": {
      "image/png": "[encoded data removed]",
      "text/plain": [
       "<Figure size 432x288 with 1 Axes>"
      ]
     },
     "metadata": {
      "needs_background": "light"
     },
     "output_type": "display_data"
    }
   ],
   "source": [
    "def plot(bool_array_for_plot,labels)    \n",
    "    \n",
    "    labels=['angewinkelt','verschränkt','handgelenke umfasst']\n",
    "\n",
    "\n",
    "    fig = plt.figure()\n",
    "    ax = fig.add_subplot(111)\n",
    "    ax.imshow(f, aspect='auto', cmap=plt.cm.gray)\n",
    "    ax.set_yticks(np.arange(len(labels)))\n",
    "    ax.set_yticklabels(labels)"
   ]
  },
  {
   "cell_type": "code",
   "execution_count": null,
   "metadata": {},
   "outputs": [],
   "source": []
  },
  {
   "cell_type": "code",
   "execution_count": null,
   "metadata": {},
   "outputs": [],
   "source": []
  }
 ],
 "metadata": {
  "kernelspec": {
   "display_name": "Python 3",
   "language": "python",
   "name": "python3"
  },
  "language_info": {
   "codemirror_mode": {
    "name": "ipython",
    "version": 3
   },
   "file_extension": ".py",
   "mimetype": "text/x-python",
   "name": "python",
   "nbconvert_exporter": "python",
   "pygments_lexer": "ipython3",
   "version": "3.7.4"
  }
 },
 "nbformat": 4,
 "nbformat_minor": 4
}
